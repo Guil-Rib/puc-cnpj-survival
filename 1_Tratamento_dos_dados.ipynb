{
 "cells": [
  {
   "cell_type": "code",
   "execution_count": null,
   "metadata": {},
   "outputs": [],
   "source": [
    "from pyspark.sql.session import SparkSession\n",
    "import pyspark.sql.functions as f"
   ]
  },
  {
   "cell_type": "code",
   "execution_count": null,
   "metadata": {},
   "outputs": [],
   "source": [
    "spark = SparkSession.builder.getOrCreate()"
   ]
  },
  {
   "cell_type": "code",
   "execution_count": null,
   "metadata": {},
   "outputs": [],
   "source": [
    "emp = (\n",
    "    spark.read.csv(\"EMPRESAS_CNPJ.csv\", sep=';')\n",
    "    .toDF(\n",
    "        'cnpj_basico',\n",
    "        'razao_social',\n",
    "        'natureza_juridica',\n",
    "        'qualificacao_responsavel',\n",
    "        'capital_social',\n",
    "        'porte',\n",
    "        'ente_responsavel')\n",
    ")\n",
    "\n",
    "est = (\n",
    "    spark.read.csv(\"ESTABELE_CNPJ.csv\", sep=';')\n",
    "    .toDF(\n",
    "        'cnpj_basico',\n",
    "        'cnpj_ordem',\n",
    "        'cnpj_dv',\n",
    "        'id_matriz',\n",
    "        'nome_fantasia',\n",
    "        'situacao',\n",
    "        'situacao_data',\n",
    "        'situacao_motivo',\n",
    "        'cidade_exterior',\n",
    "        \"pais_codigo\",\n",
    "        'inicio_data',\n",
    "        'cnae_principal',\n",
    "        'cnae_secundario',\n",
    "        'logradouro_tipo',\n",
    "        'logradouro',\n",
    "        'lograoduro_numero',\n",
    "        'logradouro_complemento',\n",
    "        'bairro',\n",
    "        'cep',\n",
    "        'uf',\n",
    "        'municipio',\n",
    "        'ddd1',\n",
    "        'telefone1',\n",
    "        'ddd2',\n",
    "        'telefone2',\n",
    "        'ddd_fax',\n",
    "        'fax',\n",
    "        'email',\n",
    "        'situacao_especial',\n",
    "        'situacao_especial_data')\n",
    ")"
   ]
  },
  {
   "cell_type": "code",
   "execution_count": null,
   "metadata": {},
   "outputs": [],
   "source": [
    "emp = (\n",
    "    emp\n",
    "    .select(\n",
    "        'cnpj_basico',\n",
    "        'natureza_juridica',\n",
    "        'qualificacao_responsavel',\n",
    "        'capital_social',\n",
    "        'porte',\n",
    "    )\n",
    ")\n",
    "\n",
    "est = (\n",
    "    est\n",
    "    .select(\n",
    "        'cnpj_basico',\n",
    "        'cnpj_ordem',\n",
    "        'cnpj_dv',\n",
    "        'id_matriz',\n",
    "        'situacao',\n",
    "        'situacao_data',\n",
    "        'situacao_motivo',\n",
    "        'inicio_data',\n",
    "        'cnae_principal',\n",
    "        'cep',\n",
    "        'uf',\n",
    "    )\n",
    ")"
   ]
  },
  {
   "cell_type": "code",
   "execution_count": null,
   "metadata": {},
   "outputs": [],
   "source": [
    "est = est.filter(f.col('uf') == 'MG')"
   ]
  },
  {
   "cell_type": "code",
   "execution_count": null,
   "metadata": {},
   "outputs": [],
   "source": [
    "est = (\n",
    "    est\n",
    "    .join(emp, on='cnpj_basico', how='inner')\n",
    ")"
   ]
  },
  {
   "attachments": {},
   "cell_type": "markdown",
   "metadata": {},
   "source": [
    "### Formatando as datas"
   ]
  },
  {
   "cell_type": "code",
   "execution_count": null,
   "metadata": {},
   "outputs": [],
   "source": [
    "est = (\n",
    "    est\n",
    "    .withColumn('situacao_data', f.to_date(f.col('situacao_data').cast('string'), \"yyyyMMdd\"))\n",
    "    .withColumn('inicio_data', f.to_date(f.col('inicio_data').cast('string'), \"yyyyMMdd\"))\n",
    ")"
   ]
  },
  {
   "cell_type": "code",
   "execution_count": null,
   "metadata": {},
   "outputs": [],
   "source": [
    "est = (\n",
    "    est\n",
    "    .withColumn('cnpj', f.concat_ws(\"\",\n",
    "                f.col('cnpj_basico'), f.col('cnpj_ordem'), f.col('cnpj_dv')\n",
    "                ))\n",
    "    .drop('cnpj_basico', 'cnpj_dv', 'cnpj_ordem')\n",
    ")"
   ]
  },
  {
   "cell_type": "code",
   "execution_count": null,
   "metadata": {},
   "outputs": [],
   "source": [
    "est.groupBy('natureza_juridica').count().show(500)"
   ]
  }
 ],
 "metadata": {
  "kernelspec": {
   "display_name": "Python 3.10.5 ('.venv': poetry)",
   "language": "python",
   "name": "python3"
  },
  "language_info": {
   "codemirror_mode": {
    "name": "ipython",
    "version": 3
   },
   "file_extension": ".py",
   "mimetype": "text/x-python",
   "name": "python",
   "nbconvert_exporter": "python",
   "pygments_lexer": "ipython3",
   "version": "3.10.5"
  },
  "vscode": {
   "interpreter": {
    "hash": "ea8453e95023dfd796990d2afe3f9926c6bda5753103bc9c16324b3f52722976"
   }
  }
 },
 "nbformat": 4,
 "nbformat_minor": 2
}
