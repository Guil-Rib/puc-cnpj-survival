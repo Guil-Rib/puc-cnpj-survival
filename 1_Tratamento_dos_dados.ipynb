{
 "cells": [
  {
   "cell_type": "code",
   "execution_count": 1,
   "metadata": {},
   "outputs": [],
   "source": [
    "from pyspark.sql.session import SparkSession\n",
    "import pyspark.sql.functions as f"
   ]
  },
  {
   "cell_type": "code",
   "execution_count": 2,
   "metadata": {},
   "outputs": [
    {
     "name": "stdout",
     "output_type": "stream",
     "text": [
      "23/02/02 20:19:42 WARN Utils: Your hostname, Lisbeth resolves to a loopback address: 127.0.1.1; using 192.168.100.49 instead (on interface wlp0s20f3)\n",
      "23/02/02 20:19:42 WARN Utils: Set SPARK_LOCAL_IP if you need to bind to another address\n"
     ]
    },
    {
     "name": "stderr",
     "output_type": "stream",
     "text": [
      "Setting default log level to \"WARN\".\n",
      "To adjust logging level use sc.setLogLevel(newLevel). For SparkR, use setLogLevel(newLevel).\n"
     ]
    },
    {
     "name": "stdout",
     "output_type": "stream",
     "text": [
      "23/02/02 20:19:43 WARN NativeCodeLoader: Unable to load native-hadoop library for your platform... using builtin-java classes where applicable\n"
     ]
    }
   ],
   "source": [
    "spark = SparkSession.builder.getOrCreate()"
   ]
  },
  {
   "cell_type": "code",
   "execution_count": 3,
   "metadata": {},
   "outputs": [],
   "source": [
    "emp = (\n",
    "    spark.read.csv(\"EMPRESAS_CNPJ.csv\", sep=';')\n",
    "    .toDF(\n",
    "        'cnpj_basico',\n",
    "        'razao_social',\n",
    "        'natureza_juridica',\n",
    "        'qualificacao_responsavel',\n",
    "        'capital_social',\n",
    "        'porte',\n",
    "        'ente_responsavel')\n",
    ")\n",
    "\n",
    "est = (\n",
    "    spark.read.csv(\"ESTABELE_CNPJ.csv\", sep=';')\n",
    "    .toDF(\n",
    "        'cnpj_basico',\n",
    "        'cnpj_ordem',\n",
    "        'cnpj_dv',\n",
    "        'id_matriz',\n",
    "        'nome_fantasia',\n",
    "        'situacao',\n",
    "        'situacao_data',\n",
    "        'situacao_motivo',\n",
    "        'cidade_exterior',\n",
    "        \"pais_codigo\",\n",
    "        'inicio_data',\n",
    "        'cnae_principal',\n",
    "        'cnae_secundario',\n",
    "        'logradouro_tipo',\n",
    "        'logradouro',\n",
    "        'lograoduro_numero',\n",
    "        'logradouro_complemento',\n",
    "        'bairro',\n",
    "        'cep',\n",
    "        'uf',\n",
    "        'municipio',\n",
    "        'ddd1',\n",
    "        'telefone1',\n",
    "        'ddd2',\n",
    "        'telefone2',\n",
    "        'ddd_fax',\n",
    "        'fax',\n",
    "        'email',\n",
    "        'situacao_especial',\n",
    "        'situacao_especial_data')\n",
    ")"
   ]
  },
  {
   "cell_type": "code",
   "execution_count": 4,
   "metadata": {},
   "outputs": [],
   "source": [
    "emp = (\n",
    "    emp\n",
    "    .select(\n",
    "        'cnpj_basico',\n",
    "        'natureza_juridica',\n",
    "        'qualificacao_responsavel',\n",
    "        'capital_social',\n",
    "        'porte',\n",
    "    )\n",
    ")\n",
    "\n",
    "est = (\n",
    "    est\n",
    "    .select(\n",
    "        'cnpj_basico',\n",
    "        'cnpj_ordem',\n",
    "        'cnpj_dv',\n",
    "        'id_matriz',\n",
    "        'situacao',\n",
    "        'situacao_data',\n",
    "        'situacao_motivo',\n",
    "        'inicio_data',\n",
    "        'cnae_principal',\n",
    "        'cep',\n",
    "        'uf',\n",
    "    )\n",
    ")"
   ]
  },
  {
   "cell_type": "code",
   "execution_count": 5,
   "metadata": {},
   "outputs": [],
   "source": [
    "est = est.filter(f.col('uf') == 'MG')"
   ]
  },
  {
   "cell_type": "code",
   "execution_count": 6,
   "metadata": {},
   "outputs": [],
   "source": [
    "est = (\n",
    "    est\n",
    "    .join(emp, on='cnpj_basico', how='inner')\n",
    ")"
   ]
  },
  {
   "attachments": {},
   "cell_type": "markdown",
   "metadata": {},
   "source": [
    "### Formatando as datas"
   ]
  },
  {
   "cell_type": "code",
   "execution_count": 7,
   "metadata": {},
   "outputs": [],
   "source": [
    "est = (\n",
    "    est\n",
    "    .withColumn('situacao_data', f.to_date(f.col('situacao_data').cast('string'), \"yyyyMMdd\"))\n",
    "    .withColumn('inicio_data', f.to_date(f.col('inicio_data').cast('string'), \"yyyyMMdd\"))\n",
    ")"
   ]
  },
  {
   "cell_type": "code",
   "execution_count": 8,
   "metadata": {},
   "outputs": [],
   "source": [
    "est = (\n",
    "    est\n",
    "    .withColumn('cnpj', f.concat_ws(\"\",\n",
    "                f.col('cnpj_basico'), f.col('cnpj_ordem'), f.col('cnpj_dv')\n",
    "                ))\n",
    "    .drop('cnpj_basico', 'cnpj_dv', 'cnpj_ordem')\n",
    ")"
   ]
  },
  {
   "cell_type": "code",
   "execution_count": 9,
   "metadata": {},
   "outputs": [
    {
     "name": "stderr",
     "output_type": "stream",
     "text": [
      "[Stage 6:>                                                          (0 + 8) / 9]\r"
     ]
    },
    {
     "name": "stdout",
     "output_type": "stream",
     "text": [
      "23/02/02 20:20:41 WARN RowBasedKeyValueBatch: Calling spill() on RowBasedKeyValueBatch. Will not spill but return 0.\n",
      "23/02/02 20:20:41 WARN RowBasedKeyValueBatch: Calling spill() on RowBasedKeyValueBatch. Will not spill but return 0.\n",
      "23/02/02 20:20:41 WARN RowBasedKeyValueBatch: Calling spill() on RowBasedKeyValueBatch. Will not spill but return 0.\n",
      "23/02/02 20:20:41 WARN RowBasedKeyValueBatch: Calling spill() on RowBasedKeyValueBatch. Will not spill but return 0.\n",
      "23/02/02 20:20:41 WARN RowBasedKeyValueBatch: Calling spill() on RowBasedKeyValueBatch. Will not spill but return 0.\n",
      "23/02/02 20:20:41 WARN RowBasedKeyValueBatch: Calling spill() on RowBasedKeyValueBatch. Will not spill but return 0.\n",
      "23/02/02 20:20:41 WARN RowBasedKeyValueBatch: Calling spill() on RowBasedKeyValueBatch. Will not spill but return 0.\n",
      "23/02/02 20:20:41 WARN RowBasedKeyValueBatch: Calling spill() on RowBasedKeyValueBatch. Will not spill but return 0.\n",
      "23/02/02 20:20:43 WARN RowBasedKeyValueBatch: Calling spill() on RowBasedKeyValueBatch. Will not spill but return 0.\n",
      "23/02/02 20:20:43 WARN RowBasedKeyValueBatch: Calling spill() on RowBasedKeyValueBatch. Will not spill but return 0.\n",
      "23/02/02 20:20:43 WARN RowBasedKeyValueBatch: Calling spill() on RowBasedKeyValueBatch. Will not spill but return 0.\n",
      "23/02/02 20:20:43 WARN RowBasedKeyValueBatch: Calling spill() on RowBasedKeyValueBatch. Will not spill but return 0.\n",
      "23/02/02 20:20:43 WARN RowBasedKeyValueBatch: Calling spill() on RowBasedKeyValueBatch. Will not spill but return 0.\n",
      "23/02/02 20:20:43 WARN RowBasedKeyValueBatch: Calling spill() on RowBasedKeyValueBatch. Will not spill but return 0.\n",
      "23/02/02 20:20:43 WARN RowBasedKeyValueBatch: Calling spill() on RowBasedKeyValueBatch. Will not spill but return 0.\n",
      "23/02/02 20:20:43 WARN RowBasedKeyValueBatch: Calling spill() on RowBasedKeyValueBatch. Will not spill but return 0.\n",
      "23/02/02 20:20:43 WARN RowBasedKeyValueBatch: Calling spill() on RowBasedKeyValueBatch. Will not spill but return 0.\n",
      "23/02/02 20:20:43 WARN RowBasedKeyValueBatch: Calling spill() on RowBasedKeyValueBatch. Will not spill but return 0.\n",
      "23/02/02 20:20:43 WARN RowBasedKeyValueBatch: Calling spill() on RowBasedKeyValueBatch. Will not spill but return 0.\n",
      "23/02/02 20:20:43 WARN RowBasedKeyValueBatch: Calling spill() on RowBasedKeyValueBatch. Will not spill but return 0.\n",
      "23/02/02 20:20:43 WARN RowBasedKeyValueBatch: Calling spill() on RowBasedKeyValueBatch. Will not spill but return 0.\n",
      "23/02/02 20:20:43 WARN RowBasedKeyValueBatch: Calling spill() on RowBasedKeyValueBatch. Will not spill but return 0.\n",
      "23/02/02 20:20:43 WARN RowBasedKeyValueBatch: Calling spill() on RowBasedKeyValueBatch. Will not spill but return 0.\n",
      "23/02/02 20:20:43 WARN RowBasedKeyValueBatch: Calling spill() on RowBasedKeyValueBatch. Will not spill but return 0.\n",
      "23/02/02 20:20:44 WARN RowBasedKeyValueBatch: Calling spill() on RowBasedKeyValueBatch. Will not spill but return 0.\n",
      "23/02/02 20:20:44 WARN RowBasedKeyValueBatch: Calling spill() on RowBasedKeyValueBatch. Will not spill but return 0.\n",
      "23/02/02 20:20:44 WARN RowBasedKeyValueBatch: Calling spill() on RowBasedKeyValueBatch. Will not spill but return 0.\n",
      "23/02/02 20:20:44 WARN RowBasedKeyValueBatch: Calling spill() on RowBasedKeyValueBatch. Will not spill but return 0.\n",
      "23/02/02 20:20:44 WARN RowBasedKeyValueBatch: Calling spill() on RowBasedKeyValueBatch. Will not spill but return 0.\n",
      "23/02/02 20:20:44 WARN RowBasedKeyValueBatch: Calling spill() on RowBasedKeyValueBatch. Will not spill but return 0.\n",
      "23/02/02 20:20:44 WARN RowBasedKeyValueBatch: Calling spill() on RowBasedKeyValueBatch. Will not spill but return 0.\n",
      "23/02/02 20:20:44 WARN RowBasedKeyValueBatch: Calling spill() on RowBasedKeyValueBatch. Will not spill but return 0.\n",
      "23/02/02 20:20:44 WARN RowBasedKeyValueBatch: Calling spill() on RowBasedKeyValueBatch. Will not spill but return 0.\n",
      "23/02/02 20:20:44 WARN RowBasedKeyValueBatch: Calling spill() on RowBasedKeyValueBatch. Will not spill but return 0.\n",
      "23/02/02 20:20:44 WARN RowBasedKeyValueBatch: Calling spill() on RowBasedKeyValueBatch. Will not spill but return 0.\n",
      "23/02/02 20:20:44 WARN RowBasedKeyValueBatch: Calling spill() on RowBasedKeyValueBatch. Will not spill but return 0.\n",
      "23/02/02 20:20:44 WARN RowBasedKeyValueBatch: Calling spill() on RowBasedKeyValueBatch. Will not spill but return 0.\n",
      "23/02/02 20:20:44 WARN RowBasedKeyValueBatch: Calling spill() on RowBasedKeyValueBatch. Will not spill but return 0.\n",
      "23/02/02 20:20:44 WARN RowBasedKeyValueBatch: Calling spill() on RowBasedKeyValueBatch. Will not spill but return 0.\n",
      "23/02/02 20:20:44 WARN RowBasedKeyValueBatch: Calling spill() on RowBasedKeyValueBatch. Will not spill but return 0.\n",
      "23/02/02 20:20:45 WARN RowBasedKeyValueBatch: Calling spill() on RowBasedKeyValueBatch. Will not spill but return 0.\n",
      "23/02/02 20:20:45 WARN RowBasedKeyValueBatch: Calling spill() on RowBasedKeyValueBatch. Will not spill but return 0.\n",
      "23/02/02 20:20:45 WARN RowBasedKeyValueBatch: Calling spill() on RowBasedKeyValueBatch. Will not spill but return 0.\n",
      "23/02/02 20:20:45 WARN RowBasedKeyValueBatch: Calling spill() on RowBasedKeyValueBatch. Will not spill but return 0.\n",
      "23/02/02 20:20:45 WARN RowBasedKeyValueBatch: Calling spill() on RowBasedKeyValueBatch. Will not spill but return 0.\n",
      "23/02/02 20:20:45 WARN RowBasedKeyValueBatch: Calling spill() on RowBasedKeyValueBatch. Will not spill but return 0.\n",
      "23/02/02 20:20:45 WARN RowBasedKeyValueBatch: Calling spill() on RowBasedKeyValueBatch. Will not spill but return 0.\n",
      "23/02/02 20:20:45 WARN RowBasedKeyValueBatch: Calling spill() on RowBasedKeyValueBatch. Will not spill but return 0.\n",
      "23/02/02 20:20:45 WARN RowBasedKeyValueBatch: Calling spill() on RowBasedKeyValueBatch. Will not spill but return 0.\n",
      "23/02/02 20:20:45 WARN RowBasedKeyValueBatch: Calling spill() on RowBasedKeyValueBatch. Will not spill but return 0.\n",
      "23/02/02 20:20:45 WARN RowBasedKeyValueBatch: Calling spill() on RowBasedKeyValueBatch. Will not spill but return 0.\n",
      "23/02/02 20:20:45 WARN RowBasedKeyValueBatch: Calling spill() on RowBasedKeyValueBatch. Will not spill but return 0.\n",
      "23/02/02 20:20:45 WARN RowBasedKeyValueBatch: Calling spill() on RowBasedKeyValueBatch. Will not spill but return 0.\n",
      "23/02/02 20:20:45 WARN RowBasedKeyValueBatch: Calling spill() on RowBasedKeyValueBatch. Will not spill but return 0.\n",
      "23/02/02 20:20:45 WARN RowBasedKeyValueBatch: Calling spill() on RowBasedKeyValueBatch. Will not spill but return 0.\n",
      "23/02/02 20:20:45 WARN RowBasedKeyValueBatch: Calling spill() on RowBasedKeyValueBatch. Will not spill but return 0.\n",
      "23/02/02 20:20:46 WARN RowBasedKeyValueBatch: Calling spill() on RowBasedKeyValueBatch. Will not spill but return 0.\n",
      "23/02/02 20:20:46 WARN RowBasedKeyValueBatch: Calling spill() on RowBasedKeyValueBatch. Will not spill but return 0.\n",
      "23/02/02 20:20:46 WARN RowBasedKeyValueBatch: Calling spill() on RowBasedKeyValueBatch. Will not spill but return 0.\n",
      "23/02/02 20:20:46 WARN RowBasedKeyValueBatch: Calling spill() on RowBasedKeyValueBatch. Will not spill but return 0.\n",
      "23/02/02 20:20:46 WARN RowBasedKeyValueBatch: Calling spill() on RowBasedKeyValueBatch. Will not spill but return 0.\n",
      "23/02/02 20:20:46 WARN RowBasedKeyValueBatch: Calling spill() on RowBasedKeyValueBatch. Will not spill but return 0.\n",
      "23/02/02 20:20:46 WARN RowBasedKeyValueBatch: Calling spill() on RowBasedKeyValueBatch. Will not spill but return 0.\n",
      "23/02/02 20:20:46 WARN RowBasedKeyValueBatch: Calling spill() on RowBasedKeyValueBatch. Will not spill but return 0.\n",
      "23/02/02 20:20:46 WARN RowBasedKeyValueBatch: Calling spill() on RowBasedKeyValueBatch. Will not spill but return 0.\n",
      "23/02/02 20:20:46 WARN RowBasedKeyValueBatch: Calling spill() on RowBasedKeyValueBatch. Will not spill but return 0.\n",
      "23/02/02 20:20:46 WARN RowBasedKeyValueBatch: Calling spill() on RowBasedKeyValueBatch. Will not spill but return 0.\n",
      "23/02/02 20:20:46 WARN RowBasedKeyValueBatch: Calling spill() on RowBasedKeyValueBatch. Will not spill but return 0.\n",
      "23/02/02 20:20:46 WARN RowBasedKeyValueBatch: Calling spill() on RowBasedKeyValueBatch. Will not spill but return 0.\n",
      "23/02/02 20:20:46 WARN RowBasedKeyValueBatch: Calling spill() on RowBasedKeyValueBatch. Will not spill but return 0.\n",
      "23/02/02 20:20:46 WARN RowBasedKeyValueBatch: Calling spill() on RowBasedKeyValueBatch. Will not spill but return 0.\n",
      "23/02/02 20:20:47 WARN RowBasedKeyValueBatch: Calling spill() on RowBasedKeyValueBatch. Will not spill but return 0.\n",
      "23/02/02 20:20:47 WARN RowBasedKeyValueBatch: Calling spill() on RowBasedKeyValueBatch. Will not spill but return 0.\n",
      "23/02/02 20:20:47 WARN RowBasedKeyValueBatch: Calling spill() on RowBasedKeyValueBatch. Will not spill but return 0.\n",
      "23/02/02 20:20:47 WARN RowBasedKeyValueBatch: Calling spill() on RowBasedKeyValueBatch. Will not spill but return 0.\n",
      "23/02/02 20:20:47 WARN RowBasedKeyValueBatch: Calling spill() on RowBasedKeyValueBatch. Will not spill but return 0.\n"
     ]
    },
    {
     "name": "stderr",
     "output_type": "stream",
     "text": [
      "[Stage 6:=============================================>             (7 + 2) / 9]\r"
     ]
    },
    {
     "name": "stdout",
     "output_type": "stream",
     "text": [
      "+-----------------+-------+\n",
      "|natureza_juridica|  count|\n",
      "+-----------------+-------+\n",
      "|             1104|    596|\n",
      "|             3280|     21|\n",
      "|             1112|    189|\n",
      "|             2224|    839|\n",
      "|             3131|   4974|\n",
      "|             2305|  20807|\n",
      "|             2100|    169|\n",
      "|             3999| 164264|\n",
      "|             1074|     28|\n",
      "|             2046|   7714|\n",
      "|             3328|     45|\n",
      "|             2097|     26|\n",
      "|             1082|     31|\n",
      "|             5029|     14|\n",
      "|             8885|    318|\n",
      "|             4014|  18239|\n",
      "|             1139|     69|\n",
      "|             3115|     35|\n",
      "|             2062|1520666|\n",
      "|             2267|      3|\n",
      "|             2127|   4328|\n",
      "|             3301|    313|\n",
      "|             1023|    921|\n",
      "|             2178|     60|\n",
      "|             1147|    147|\n",
      "|             2283|     52|\n",
      "|             2038|   3239|\n",
      "|             2321|   7094|\n",
      "|             1210|    290|\n",
      "|             1066|    876|\n",
      "|             2348|    125|\n",
      "|             3069|   2743|\n",
      "|             3220|  18243|\n",
      "|             2011|   2943|\n",
      "|             2160|     30|\n",
      "|             2143|   9046|\n",
      "|             3204|     16|\n",
      "|             1120|    474|\n",
      "|             2151|   2775|\n",
      "|             3034|   3733|\n",
      "|             1244|   2335|\n",
      "|             2259|     60|\n",
      "|             3085|  47317|\n",
      "|             2240|  80724|\n",
      "|             4090| 369289|\n",
      "|             1317|     13|\n",
      "|             2070|    844|\n",
      "|             1180|     60|\n",
      "|             1155|    467|\n",
      "|             1015|    289|\n",
      "|             1031|   1509|\n",
      "|             1295|      2|\n",
      "|             3263|     54|\n",
      "|             3077|    799|\n",
      "|             2313|    756|\n",
      "|             2135|3651839|\n",
      "|             1325|     25|\n",
      "|             3271|  19980|\n",
      "|             2089|     61|\n",
      "|             2232|   8307|\n",
      "|             1333|   3714|\n",
      "|             2054|  32076|\n",
      "|             1252|      3|\n",
      "|             1058|      2|\n",
      "|             2330|     22|\n",
      "|             1163|      2|\n",
      "|             1279|     13|\n",
      "|             3247|      1|\n",
      "|             1040|      2|\n",
      "|             3255|      2|\n",
      "|             1171|      4|\n",
      "|             1309|      7|\n",
      "|             3239|      1|\n",
      "|             1236|     24|\n",
      "|               50|      2|\n",
      "|             1228|      1|\n",
      "|             1260|      1|\n",
      "|             3107|      3|\n",
      "|             5010|      1|\n",
      "+-----------------+-------+\n",
      "\n"
     ]
    },
    {
     "name": "stderr",
     "output_type": "stream",
     "text": [
      "                                                                                \r"
     ]
    }
   ],
   "source": [
    "est.groupBy('natureza_juridica').count().show(500)"
   ]
  }
 ],
 "metadata": {
  "kernelspec": {
   "display_name": "Python 3.10.5 ('.venv': poetry)",
   "language": "python",
   "name": "python3"
  },
  "language_info": {
   "codemirror_mode": {
    "name": "ipython",
    "version": 3
   },
   "file_extension": ".py",
   "mimetype": "text/x-python",
   "name": "python",
   "nbconvert_exporter": "python",
   "pygments_lexer": "ipython3",
   "version": "3.10.5"
  },
  "orig_nbformat": 4,
  "vscode": {
   "interpreter": {
    "hash": "ea8453e95023dfd796990d2afe3f9926c6bda5753103bc9c16324b3f52722976"
   }
  }
 },
 "nbformat": 4,
 "nbformat_minor": 2
}
