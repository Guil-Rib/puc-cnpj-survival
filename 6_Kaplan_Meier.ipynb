{
 "cells": [
  {
   "cell_type": "code",
   "execution_count": null,
   "metadata": {},
   "outputs": [],
   "source": [
    "# Kaplan-Meier\n",
    "from lifelines import KaplanMeierFitter\n",
    "from pyspark.sql.session import SparkSession, SparkConf\n",
    "import pyspark.sql.functions as f\n",
    "import matplotlib.pyplot as plt\n",
    "plt.rcParams[\"figure.figsize\"] = (10,5)\n",
    "import pandas as pd\n",
    "import seaborn as sns\n",
    "from lifelines.utils import k_fold_cross_validation"
   ]
  },
  {
   "cell_type": "code",
   "execution_count": null,
   "metadata": {},
   "outputs": [],
   "source": [
    "kmf = KaplanMeierFitter()"
   ]
  },
  {
   "cell_type": "code",
   "execution_count": null,
   "metadata": {},
   "outputs": [],
   "source": [
    "df = pd.read_parquet('dados_modelo.parquet').dropna()"
   ]
  },
  {
   "cell_type": "code",
   "execution_count": null,
   "metadata": {},
   "outputs": [],
   "source": [
    "kmf.fit(durations=df['idade_anos'], event_observed=df['fechada'])"
   ]
  },
  {
   "cell_type": "code",
   "execution_count": null,
   "metadata": {},
   "outputs": [],
   "source": [
    "ax = plt.subplot(111)\n",
    "\n",
    "\n",
    "\n",
    "kmf.plot_survival_function(ax=ax)\n",
    "\n",
    "plt.title('Total da base')\n",
    "plt.xlabel('Tempo (anos)')\n",
    "plt.ylabel('Probabilidade de sobrevivência')\n",
    "\n",
    "print(kmf.median_survival_time_)"
   ]
  },
  {
   "cell_type": "code",
   "execution_count": null,
   "metadata": {},
   "outputs": [],
   "source": [
    "df.columns"
   ]
  },
  {
   "cell_type": "code",
   "execution_count": null,
   "metadata": {},
   "outputs": [],
   "source": [
    "nat_jur = list(df['natureza_juridica'].unique())"
   ]
  },
  {
   "cell_type": "code",
   "execution_count": null,
   "metadata": {},
   "outputs": [],
   "source": [
    "df['natureza_juridica'].isnull().sum()"
   ]
  },
  {
   "cell_type": "code",
   "execution_count": null,
   "metadata": {},
   "outputs": [],
   "source": [
    "ax = plt.subplot(111)\n",
    "\n",
    "for item in nat_jur:\n",
    "\n",
    "    nat = (df['natureza_juridica'] == item)\n",
    "    \n",
    "    kmf.fit(df[nat]['idade_anos'], df[nat]['fechada'], label=item)\n",
    "\n",
    "    kmf.plot_survival_function(ax=ax)\n",
    "\n",
    "plt.title('Natureza Jurídica')\n",
    "plt.xlabel('Tempo (anos)')\n",
    "plt.ylabel('Probabilidade de sobrevivência')\n",
    "print(kmf.median_survival_time_)"
   ]
  },
  {
   "cell_type": "code",
   "execution_count": null,
   "metadata": {},
   "outputs": [],
   "source": [
    "ax = plt.subplot(111)\n",
    "\n",
    "\n",
    "portes = list(df['porte'].unique())\n",
    "\n",
    "for item in portes:\n",
    "    print(item)\n",
    "\n",
    "    por = (df['porte'] == item)\n",
    "\n",
    "    por\n",
    "    \n",
    "    kmf.fit(df[por]['idade_anos'], df[por]['fechada'], label=item)\n",
    "\n",
    "    kmf.plot_survival_function(ax=ax)\n",
    "    print(item, kmf.median_survival_time_)\n",
    "\n",
    "plt.title('Porte')\n",
    "plt.xlabel('Tempo (anos)')\n",
    "plt.ylabel('Probabilidade de sobrevivência')\n"
   ]
  },
  {
   "cell_type": "code",
   "execution_count": null,
   "metadata": {},
   "outputs": [],
   "source": [
    "ax = plt.subplot(111)\n",
    "\n",
    "\n",
    "areas = list(df['grande_area'].unique())\n",
    "\n",
    "for item in areas[0:5]:\n",
    "    print(item)\n",
    "\n",
    "    cnae = (df['grande_area'] == item)\n",
    "\n",
    "    cnae\n",
    "    \n",
    "    kmf.fit(df[cnae]['idade_anos'], df[cnae]['fechada'], label=item)\n",
    "\n",
    "    kmf.plot_survival_function(ax=ax)\n",
    "    print(item, kmf.median_survival_time_)\n",
    "\n",
    "plt.title('CNAE - Grande área')\n",
    "plt.xlabel('Tempo (anos)')\n",
    "plt.ylabel('Probabilidade de sobrevivência')"
   ]
  },
  {
   "cell_type": "code",
   "execution_count": null,
   "metadata": {},
   "outputs": [],
   "source": [
    "ax = plt.subplot(111)\n",
    "\n",
    "\n",
    "areas = list(df['grande_area'].unique())\n",
    "\n",
    "for item in areas[6:11]:\n",
    "    print(item)\n",
    "\n",
    "    cnae = (df['grande_area'] == item)\n",
    "\n",
    "    cnae\n",
    "    \n",
    "    kmf.fit(df[cnae]['idade_anos'], df[cnae]['fechada'], label=item)\n",
    "\n",
    "    kmf.plot_survival_function(ax=ax)\n",
    "    print(item, kmf.median_survival_time_)\n",
    "\n",
    "plt.title('CNAE - Grande área')\n",
    "plt.xlabel('Tempo (anos)')\n",
    "plt.ylabel('Probabilidade de sobrevivência')"
   ]
  },
  {
   "cell_type": "code",
   "execution_count": null,
   "metadata": {},
   "outputs": [],
   "source": [
    "ax = plt.subplot(111)\n",
    "\n",
    "\n",
    "areas = list(df['grande_area'].unique())\n",
    "\n",
    "for item in areas[12:16]:\n",
    "    print(item)\n",
    "\n",
    "    cnae = (df['grande_area'] == item)\n",
    "\n",
    "    cnae\n",
    "    \n",
    "    kmf.fit(df[cnae]['idade_anos'], df[cnae]['fechada'], label=item)\n",
    "\n",
    "    kmf.plot_survival_function(ax=ax)\n",
    "    print(item, kmf.median_survival_time_)\n",
    "\n",
    "plt.title('CNAE - Grande área')\n",
    "plt.xlabel('Tempo (anos)')\n",
    "plt.ylabel('Probabilidade de sobrevivência')"
   ]
  },
  {
   "cell_type": "code",
   "execution_count": null,
   "metadata": {},
   "outputs": [],
   "source": [
    "ax = plt.subplot(111)\n",
    "\n",
    "\n",
    "areas = list(df['grande_area'].unique())\n",
    "\n",
    "for item in areas[16:]:\n",
    "    print(item)\n",
    "\n",
    "    cnae = (df['grande_area'] == item)\n",
    "\n",
    "    cnae\n",
    "    \n",
    "    kmf.fit(df[cnae]['idade_anos'], df[cnae]['fechada'], label=item)\n",
    "\n",
    "    kmf.plot_survival_function(ax=ax)\n",
    "    print(item, kmf.median_survival_time_)\n",
    "\n",
    "plt.title('CNAE - Grande área')\n",
    "plt.xlabel('Tempo (anos)')\n",
    "plt.ylabel('Probabilidade de sobrevivência')"
   ]
  },
  {
   "cell_type": "code",
   "execution_count": null,
   "metadata": {},
   "outputs": [],
   "source": [
    "ax = plt.subplot(111)\n",
    "\n",
    "\n",
    "areas = list(df['capital_social_cat'].unique())\n",
    "\n",
    "for item in areas:\n",
    "    print(item)\n",
    "\n",
    "    cnae = (df['capital_social_cat'] == item)\n",
    "\n",
    "    cnae\n",
    "    \n",
    "    kmf.fit(df[cnae]['idade_anos'], df[cnae]['fechada'], label=item)\n",
    "\n",
    "    kmf.plot_survival_function(ax=ax)\n",
    "    print(item, kmf.median_survival_time_)\n",
    "\n",
    "plt.title('Capital Social')\n",
    "plt.xlabel('Tempo (anos)')\n",
    "plt.ylabel('Probabilidade de sobrevivência')"
   ]
  },
  {
   "cell_type": "code",
   "execution_count": null,
   "metadata": {},
   "outputs": [],
   "source": [
    "ax = plt.subplot(111)\n",
    "\n",
    "\n",
    "areas = list(df['id_matriz'].unique())\n",
    "\n",
    "for item in areas:\n",
    "    print(item)\n",
    "\n",
    "    cnae = (df['id_matriz'] == item)\n",
    "\n",
    "    cnae\n",
    "    \n",
    "    kmf.fit(df[cnae]['idade_anos'], df[cnae]['fechada'], label=item)\n",
    "\n",
    "    kmf.plot_survival_function(ax=ax)\n",
    "    print(item, kmf.median_survival_time_)\n",
    "\n",
    "plt.title('Flag Matriz')\n",
    "plt.xlabel('Tempo (anos)')\n",
    "plt.ylabel('Probabilidade de sobrevivência')"
   ]
  }
 ],
 "metadata": {
  "kernelspec": {
   "display_name": ".venv",
   "language": "python",
   "name": "python3"
  },
  "language_info": {
   "codemirror_mode": {
    "name": "ipython",
    "version": 3
   },
   "file_extension": ".py",
   "mimetype": "text/x-python",
   "name": "python",
   "nbconvert_exporter": "python",
   "pygments_lexer": "ipython3",
   "version": "3.10.5"
  }
 },
 "nbformat": 4,
 "nbformat_minor": 2
}
