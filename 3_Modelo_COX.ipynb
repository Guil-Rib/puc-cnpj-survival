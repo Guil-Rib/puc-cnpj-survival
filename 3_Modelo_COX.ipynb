{
 "cells": [
  {
   "cell_type": "code",
   "execution_count": null,
   "metadata": {},
   "outputs": [],
   "source": [
    "from lifelines import CoxPHFitter\n",
    "from pyspark.sql.session import SparkSession, SparkConf\n",
    "import pyspark.sql.functions as f\n",
    "import matplotlib.pyplot as plt\n",
    "plt.rcParams[\"figure.figsize\"] = (10,10)\n",
    "import pandas as pd\n",
    "import seaborn as sns\n",
    "from lifelines.utils import k_fold_cross_validation"
   ]
  },
  {
   "cell_type": "code",
   "execution_count": null,
   "metadata": {},
   "outputs": [],
   "source": [
    "df = pd.read_parquet('dados_modelo.parquet')"
   ]
  },
  {
   "cell_type": "code",
   "execution_count": null,
   "metadata": {},
   "outputs": [],
   "source": [
    "df = pd.get_dummies(df,drop_first=True, columns=['natureza_juridica', 'porte', 'capital_social_cat'])"
   ]
  },
  {
   "cell_type": "code",
   "execution_count": null,
   "metadata": {},
   "outputs": [],
   "source": [
    "df.columns"
   ]
  },
  {
   "cell_type": "code",
   "execution_count": null,
   "metadata": {},
   "outputs": [],
   "source": [
    "cph = CoxPHFitter()"
   ]
  },
  {
   "cell_type": "code",
   "execution_count": null,
   "metadata": {},
   "outputs": [],
   "source": [
    "df = df.dropna()"
   ]
  },
  {
   "cell_type": "code",
   "execution_count": null,
   "metadata": {},
   "outputs": [],
   "source": [
    "cnpj = df['cnpj']"
   ]
  },
  {
   "cell_type": "code",
   "execution_count": null,
   "metadata": {},
   "outputs": [],
   "source": [
    "df.columns"
   ]
  },
  {
   "cell_type": "code",
   "execution_count": null,
   "metadata": {},
   "outputs": [],
   "source": [
    "df['latitude'] = df['latitude'] + 21.558548\n",
    "df['longitude'] = df['longitude'] + 45.4394151"
   ]
  },
  {
   "cell_type": "code",
   "execution_count": null,
   "metadata": {},
   "outputs": [],
   "source": [
    "cph.fit(df, duration_col='idade_anos', event_col='fechada', strata=['grande_area'])"
   ]
  },
  {
   "cell_type": "code",
   "execution_count": null,
   "metadata": {},
   "outputs": [],
   "source": [
    "cph.print_summary()"
   ]
  },
  {
   "cell_type": "code",
   "execution_count": null,
   "metadata": {},
   "outputs": [],
   "source": [
    "print(cph.baseline_cumulative_hazard_.columns)"
   ]
  },
  {
   "cell_type": "code",
   "execution_count": null,
   "metadata": {},
   "outputs": [],
   "source": [
    "cph.baseline_cumulative_hazard_[['ADMINISTRACAO PUBLICA, DEFESA E SEGURIDADE SOCIAL',\n",
    "       'AGUA, ESGOTO, ATIVIDADES DE GESTAO DE RESIDUOS E DESCONTAMINACAO',\n",
    "       'ALOJAMENTO E ALIMENTACAO', 'ARTES, CULTURA, ESPORTE E RECREACAO',\n",
    "       'ATIVIDADES ADMINISTRATIVAS E SERVICOS COMPLEMENTARES']].plot()"
   ]
  },
  {
   "cell_type": "code",
   "execution_count": null,
   "metadata": {},
   "outputs": [],
   "source": [
    "cph.baseline_cumulative_hazard_[['ATIVIDADES FINANCEIRAS, DE SEGUROS E SERVICOS RELACIONADOS',\n",
    "       'ATIVIDADES IMOBILIARIAS',\n",
    "       'ATIVIDADES PROFISSIONAIS, CIENTIFICAS E TECNICAS',\n",
    "       'COMERCIO, REPARACAO DE VEICULOS AUTOMOTORES E MOTOCICLETAS',\n",
    "       'CONSTRUCAO', 'EDUCACAO', 'ELETRICIDADE E GAS']].plot()"
   ]
  },
  {
   "cell_type": "code",
   "execution_count": null,
   "metadata": {},
   "outputs": [],
   "source": [
    "cph.print_summary()"
   ]
  },
  {
   "cell_type": "code",
   "execution_count": null,
   "metadata": {},
   "outputs": [],
   "source": []
  },
  {
   "cell_type": "code",
   "execution_count": null,
   "metadata": {},
   "outputs": [],
   "source": [
    "cph.plot()"
   ]
  },
  {
   "cell_type": "code",
   "execution_count": null,
   "metadata": {},
   "outputs": [],
   "source": [
    "df.reset_index(drop=True, inplace=True)"
   ]
  },
  {
   "cell_type": "code",
   "execution_count": null,
   "metadata": {},
   "outputs": [],
   "source": [
    "scores = k_fold_cross_validation(cph, df, duration_col='idade_anos', event_col='fechada', k=3, scoring_method=\"concordance_index\")\n",
    "print(scores)"
   ]
  },
  {
   "cell_type": "code",
   "execution_count": null,
   "metadata": {},
   "outputs": [],
   "source": [
    "ativas = df[df['fechada'] == 0].reset_index()"
   ]
  },
  {
   "cell_type": "code",
   "execution_count": null,
   "metadata": {},
   "outputs": [],
   "source": [
    "hazards = cph.predict_cumulative_hazard(ativas,times=[5,10,25,50],conditional_after=ativas['idade_anos']).T.reset_index()"
   ]
  },
  {
   "cell_type": "code",
   "execution_count": null,
   "metadata": {},
   "outputs": [],
   "source": [
    "hazards.columns"
   ]
  },
  {
   "cell_type": "code",
   "execution_count": null,
   "metadata": {},
   "outputs": [],
   "source": [
    "ativas['risco_5'] = hazards[5.0]\n",
    "ativas['risco_10'] = hazards[10.0]\n",
    "ativas['risco_25'] = hazards[25.0]\n",
    "ativas['risco_50'] = hazards[50.0]\n"
   ]
  },
  {
   "cell_type": "code",
   "execution_count": null,
   "metadata": {},
   "outputs": [],
   "source": [
    "ativas['tempo_mediano'] = cph.predict_median(ativas, conditional_after=ativas['idade_anos'])"
   ]
  },
  {
   "cell_type": "code",
   "execution_count": null,
   "metadata": {},
   "outputs": [],
   "source": [
    "ativas = ativas[ativas['tempo_mediano'] < 100]"
   ]
  },
  {
   "cell_type": "code",
   "execution_count": null,
   "metadata": {},
   "outputs": [],
   "source": [
    "h3s = pd.read_parquet('./cnpjs_com_h3.parquet/')"
   ]
  },
  {
   "cell_type": "code",
   "execution_count": null,
   "metadata": {},
   "outputs": [],
   "source": [
    "ativas.merge(h3s, on='cnpj').to_csv('./Cox_kepler.csv', index=False, mode='w')"
   ]
  }
 ],
 "metadata": {
  "kernelspec": {
   "display_name": ".venv",
   "language": "python",
   "name": "python3"
  },
  "language_info": {
   "codemirror_mode": {
    "name": "ipython",
    "version": 3
   },
   "file_extension": ".py",
   "mimetype": "text/x-python",
   "name": "python",
   "nbconvert_exporter": "python",
   "pygments_lexer": "ipython3",
   "version": "3.10.5"
  },
  "vscode": {
   "interpreter": {
    "hash": "ea8453e95023dfd796990d2afe3f9926c6bda5753103bc9c16324b3f52722976"
   }
  }
 },
 "nbformat": 4,
 "nbformat_minor": 2
}
